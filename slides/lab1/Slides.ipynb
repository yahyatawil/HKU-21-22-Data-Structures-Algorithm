{
 "cells": [
  {
   "cell_type": "markdown",
   "metadata": {
    "slideshow": {
     "slide_type": "slide"
    }
   },
   "source": [
    "<img src=\"imgs/hku_logo.png\" width=\"200\" height=\"100\" >\n",
    "\n",
    "<h1 align=\"center\">Session 1: Introduction and Orientation</h1> \n",
    "<h2 align=\"center\">Data Structures and Algorithm 1 - Lab</h2> \n",
    "<br>\n",
    "<br>\n",
    "<h3 align=\"center\">Yahya Tawil</h3> \n",
    "<h3 align=\"center\">Fri, 24 Sep 2021</h3> \n"
   ]
  },
  {
   "cell_type": "markdown",
   "metadata": {
    "slideshow": {
     "slide_type": "slide"
    }
   },
   "source": [
    "<h1>Introduction</h1> "
   ]
  },
  {
   "cell_type": "markdown",
   "metadata": {
    "slideshow": {
     "slide_type": "subslide"
    }
   },
   "source": [
    "<ul>\n",
    "  <li>How is me? </li>\n",
    "  <li>Contact me: <a href=\"yahya.tawil@gmail.com\">yahya.tawil@gmail.com</a>\n",
    "  <b>or</b>  <a href=\"yahya.tawil@std.hku.edu.tr\">yahya.tawil@std.hku.edu.tr</a></li>\n",
    "</ul>  "
   ]
  },
  {
   "cell_type": "markdown",
   "metadata": {
    "slideshow": {
     "slide_type": "subslide"
    }
   },
   "source": [
    "<h1>\n",
    "   Introduce yourselfs: Name - Which year - Programming languages you know.\n",
    "</h1>  "
   ]
  },
  {
   "cell_type": "markdown",
   "metadata": {
    "slideshow": {
     "slide_type": "subslide"
    }
   },
   "source": [
    "<ul>\n",
    "<li>This lecture is to make you exited about computer Algorithms</li>\n",
    "</ul>"
   ]
  },
  {
   "cell_type": "markdown",
   "metadata": {
    "slideshow": {
     "slide_type": "slide"
    }
   },
   "source": [
    "<h1>What is an algorithm?</h1> "
   ]
  },
  {
   "cell_type": "markdown",
   "metadata": {
    "slideshow": {
     "slide_type": "subslide"
    }
   },
   "source": [
    "<h2>Real Life Example (anaology):</h2> \n",
    "<img src=\"imgs/tea-preparation.jpg\" width=\"500\" height=\"350\" align=\"center\">\n"
   ]
  },
  {
   "cell_type": "markdown",
   "metadata": {
    "slideshow": {
     "slide_type": "subslide"
    }
   },
   "source": [
    "<h2>More Complicated:</h2> \n",
    "<img src=\"imgs/tea-preparation2.jpg\" width=\"500\" height=\"350\" align=\"center\">\n"
   ]
  },
  {
   "cell_type": "markdown",
   "metadata": {
    "slideshow": {
     "slide_type": "subslide"
    }
   },
   "source": [
    "<h1>As a broad answer: “A set of steps to accomplish a task.“\n",
    "</h1>"
   ]
  },
  {
   "cell_type": "markdown",
   "metadata": {
    "slideshow": {
     "slide_type": "subslide"
    }
   },
   "source": [
    "<h2>What if the problem is more complicated in real life?</h2> \n",
    "\n",
    "<table style=\"width:100%\" border=\"0\">\n",
    "  <tr>\n",
    "    <th><img src=\"imgs/cups.png\" width=\"500\" height=\"350\" align=\"center\"></th>\n",
    "    <th><img src=\"imgs/cafe.jpg\" width=\"500\" height=\"350\" align=\"center\"></th>\n",
    "  </tr>\n",
    "</table>\n"
   ]
  },
  {
   "cell_type": "markdown",
   "metadata": {
    "slideshow": {
     "slide_type": "subslide"
    }
   },
   "source": [
    "<h1>What is a <b>computer</b> algorithm?</h1> "
   ]
  },
  {
   "cell_type": "markdown",
   "metadata": {
    "slideshow": {
     "slide_type": "subslide"
    }
   },
   "source": [
    "<h1>A computer algorithm is any well-defined computational procedure that takes some value, or set of values, as input and produces some value, or set of values, as output. </li>\n",
    "</h1>"
   ]
  },
  {
   "cell_type": "markdown",
   "metadata": {
    "slideshow": {
     "slide_type": "subslide"
    }
   },
   "source": [
    "<h1>\n",
    "Thus, an algorithm is a sequence of computational steps that transform the input into the output.\n",
    "</h1>"
   ]
  },
  {
   "cell_type": "markdown",
   "metadata": {
    "slideshow": {
     "slide_type": "slide"
    }
   },
   "source": [
    "<h1>Applications of Algorithms in Many Branches in Computer Science</h1>"
   ]
  },
  {
   "cell_type": "markdown",
   "metadata": {
    "slideshow": {
     "slide_type": "subslide"
    }
   },
   "source": [
    "<h2>GPS Maps : Shortest Path (Graph Algorithms) </h2>\n",
    "<img src=\"imgs/shortestpath.gif\" width=\"500\" align=\"center\">\n",
    "<p align=\"left\" >* source: getcircuit.com</p>"
   ]
  },
  {
   "cell_type": "markdown",
   "metadata": {
    "slideshow": {
     "slide_type": "subslide"
    }
   },
   "source": [
    "<h2>Routing in Computers Networks : Shortest Path (Graph Algorithms) </h2>\n",
    "<img src=\"imgs/Packet_Switching.gif\" width=\"500\" align=\"center\">\n",
    "<p align=\"left\" >* sourse: Wikimedia</p>"
   ]
  },
  {
   "cell_type": "markdown",
   "metadata": {
    "slideshow": {
     "slide_type": "subslide"
    }
   },
   "source": [
    "<h2>Databases : Tree Datastructure (Searching algorithms) </h2>\n",
    "<img src=\"imgs/Hierarchical-Database-Model.jpg\" width=\"500\" align=\"center\">"
   ]
  },
  {
   "cell_type": "markdown",
   "metadata": {
    "slideshow": {
     "slide_type": "subslide"
    }
   },
   "source": [
    "<h2>Biology : Compare Biological Sequences(Dynamic Programming) </h2>\n",
    "<img src=\"imgs/Needleman-Wunsch_pairwise_sequence_alignment.png\" width=\"500\" align=\"center\">"
   ]
  },
  {
   "cell_type": "markdown",
   "metadata": {
    "slideshow": {
     "slide_type": "subslide"
    }
   },
   "source": [
    "<h2>Cryptography : Public Key(Prime Number Generation) </h2>\n",
    "<img src=\"imgs/key.png\" width=\"500\" align=\"center\">"
   ]
  },
  {
   "cell_type": "markdown",
   "metadata": {
    "slideshow": {
     "slide_type": "slide"
    }
   },
   "source": [
    "<h1>Example: Grade-school Algorithm (long multiplication algorithm)</h1>"
   ]
  },
  {
   "cell_type": "markdown",
   "metadata": {
    "slideshow": {
     "slide_type": "subslide"
    }
   },
   "source": [
    "<img src=\"imgs/multi-algo1.png\" width=\"500\" align=\"center\">"
   ]
  },
  {
   "cell_type": "markdown",
   "metadata": {
    "slideshow": {
     "slide_type": "subslide"
    }
   },
   "source": [
    "<h2>For now, let’s think of a primitive operation as any of the following:</h2> \n",
    "<ol>\n",
    "    <li>adding two single-digit numbers.</li>\n",
    "    <li>multiplying two single-digit numbers.</li>\n",
    "    <li>adding a zero to the beginning or end of a number.</li>\n",
    "</ol>"
   ]
  },
  {
   "cell_type": "markdown",
   "metadata": {
    "slideshow": {
     "slide_type": "subslide"
    }
   },
   "source": [
    "<img src=\"imgs/multi-algo2.png\" width=\"500\" align=\"center\">"
   ]
  },
  {
   "cell_type": "markdown",
   "metadata": {
    "slideshow": {
     "slide_type": "subslide"
    }
   },
   "source": [
    "<h1>Take Grade-school Multiplication Algorithm to A Next Level </h1>"
   ]
  },
  {
   "cell_type": "markdown",
   "metadata": {
    "slideshow": {
     "slide_type": "subslide"
    }
   },
   "source": [
    "<h1>Karatsuba Algorithm</h1>"
   ]
  },
  {
   "cell_type": "markdown",
   "metadata": {
    "slideshow": {
     "slide_type": "subslide"
    }
   },
   "source": [
    "<img src=\"imgs/multi-algo3.png\" width=\"500\" align=\"center\">"
   ]
  },
  {
   "cell_type": "markdown",
   "metadata": {
    "slideshow": {
     "slide_type": "subslide"
    }
   },
   "source": [
    "<img src=\"imgs/multi-algo4.png\" width=\"200\" align=\"center\">"
   ]
  },
  {
   "cell_type": "markdown",
   "metadata": {
    "slideshow": {
     "slide_type": "fragment"
    }
   },
   "source": [
    "<img src=\"imgs/multi-algo5.png\" width=\"700\" align=\"center\">"
   ]
  },
  {
   "cell_type": "markdown",
   "metadata": {
    "slideshow": {
     "slide_type": "subslide"
    }
   },
   "source": [
    "<h1>Which one is better ?</h1>"
   ]
  },
  {
   "cell_type": "code",
   "execution_count": 35,
   "metadata": {
    "slideshow": {
     "slide_type": "subslide"
    },
    "tags": [
     "to_remove"
    ]
   },
   "outputs": [
    {
     "data": {
      "image/png": "[encoded data removed]",
      "text/plain": [
       "<Figure size 1080x720 with 1 Axes>"
      ]
     },
     "metadata": {},
     "output_type": "display_data"
    }
   ],
   "source": [
    "%matplotlib inline\n",
    "\n",
    "import matplotlib\n",
    "import numpy as np\n",
    "import matplotlib.pyplot as plt\n",
    "\n",
    "\n",
    "xpoints = np.arange(0,12,1)\n",
    "\n",
    "ypoints = np.power(xpoints, 2)\n",
    "ypoints2 = np.power(xpoints, 1.56)\n",
    "\n",
    "plt.figure(figsize=(15, 10))\n",
    "plt.xlabel(\"number of digits\")\n",
    "plt.ylabel(\"Number of operations\")\n",
    "\n",
    "plt.plot(xpoints, ypoints)\n",
    "plt.plot(xpoints, ypoints2)\n",
    "\n",
    "plt.xticks(np.arange(0,12,1))\n",
    "\n",
    "plt.legend([\"Long multiplication algorithm\", \"Karatsuba algorithm\"])\n",
    "plt.grid(True)\n",
    "\n",
    "\n",
    "\n",
    "plt.show()\n"
   ]
  },
  {
   "cell_type": "markdown",
   "metadata": {
    "slideshow": {
     "slide_type": "slide"
    }
   },
   "source": [
    "<h1>“What do we want from a computer algorithm?”</h1>"
   ]
  },
  {
   "cell_type": "markdown",
   "metadata": {
    "slideshow": {
     "slide_type": "fragment"
    }
   },
   "source": [
    "<h2>1. Correctness  and 2. Resource usage optimization (memory and time)</h2>"
   ]
  },
  {
   "cell_type": "markdown",
   "metadata": {
    "slideshow": {
     "slide_type": "slide"
    }
   },
   "source": [
    "<h1>What Is A Data Structure?</h1>"
   ]
  },
  {
   "cell_type": "markdown",
   "metadata": {
    "slideshow": {
     "slide_type": "subslide"
    }
   },
   "source": [
    "<h1>\"A data structure is a way to store and organize data in order to facilitate access and modifications. No single data structure works well for all purposes, and so it is important to know the strengths and limitations of several of them.\"</h1>"
   ]
  },
  {
   "cell_type": "markdown",
   "metadata": {
    "slideshow": {
     "slide_type": "fragment"
    }
   },
   "source": [
    "<img src=\"imgs/datastructure.jpg\" width=\"500\" align=\"center\">\n",
    "<p align=\"left\" >* source: hellocodeclub.com</p>"
   ]
  },
  {
   "cell_type": "markdown",
   "metadata": {
    "slideshow": {
     "slide_type": "slide"
    }
   },
   "source": [
    "<h1>The Programming Language We Will Use In This Lab</h1>"
   ]
  },
  {
   "cell_type": "markdown",
   "metadata": {
    "slideshow": {
     "slide_type": "fragment"
    }
   },
   "source": [
    "<table style=\"width:100%\" border=\"0\">\n",
    "  <tr>\n",
    "    <th align=\"center\">Data Structure Part</th>\n",
    "    <th align=\"center\">Algorithms Part</th>\n",
    "  </tr>\n",
    "  <tr>\n",
    "    <td><img src=\"imgs/cpp.png\" width=\"200\" height=\"350\" align=\"center\"></td>\n",
    "    <td><img src=\"imgs/python.png\" width=\"250\" height=\"350\" align=\"center\"></td>\n",
    "  </tr>\n",
    "</table>"
   ]
  },
  {
   "cell_type": "markdown",
   "metadata": {
    "slideshow": {
     "slide_type": "slide"
    }
   },
   "source": [
    "<h1>Information About This Lab</h1>"
   ]
  },
  {
   "cell_type": "markdown",
   "metadata": {
    "slideshow": {
     "slide_type": "fragment"
    }
   },
   "source": [
    "<p>- How many sessions? Check the lab <a href=\"https://github.com/yahyatawil/HKU-21-22-Data-Structures-Algorithm\">repository at Github</a>.</p>\n"
   ]
  },
  {
   "cell_type": "markdown",
   "metadata": {
    "slideshow": {
     "slide_type": "fragment"
    }
   },
   "source": [
    "<p>- Lab Material and Assignments? Manged using the lab <a href=\"https://github.com/yahyatawil/HKU-21-22-Data-Structures-Algorithm\">repository at Github</a>.</p>"
   ]
  },
  {
   "cell_type": "markdown",
   "metadata": {
    "slideshow": {
     "slide_type": "fragment"
    }
   },
   "source": [
    "<p>- Marks? Expected 30-40 marks.</p>"
   ]
  },
  {
   "cell_type": "markdown",
   "metadata": {
    "slideshow": {
     "slide_type": "slide"
    }
   },
   "source": [
    "<h1>Lab Rules</h1>"
   ]
  },
  {
   "cell_type": "markdown",
   "metadata": {
    "slideshow": {
     "slide_type": "fragment"
    }
   },
   "source": [
    "<p>- Be positive, motivated and active, if you have any concern or question don't hesitat to contact me any time.</p>"
   ]
  },
  {
   "cell_type": "markdown",
   "metadata": {
    "slideshow": {
     "slide_type": "fragment"
    }
   },
   "source": [
    "<p>- Missing an assignment deadline (for no acceptable reason) penality is 50% deduction in the respective work mark.</p>"
   ]
  },
  {
   "cell_type": "markdown",
   "metadata": {
    "slideshow": {
     "slide_type": "fragment"
    }
   },
   "source": [
    "<p>- <a href=\"https://www.hcii.cmu.edu/academics/plagiarism-policy\">Plagiarism</a> : cheating in any form is not permitted as ethical or educational behavior and will not be tolerated (seriously! first discovered plagiarism, a 10% deduction of your final lab mark. Second discovered plagiarism, 40%. third discovered plagiarism, you will get zero in the lab.)</p>"
   ]
  },
  {
   "cell_type": "markdown",
   "metadata": {
    "slideshow": {
     "slide_type": "fragment"
    }
   },
   "source": [
    "<p>- The official teaching language is english, thus only English is used and allowed for teaching, commnication, presentations, quizes and assignments.</p>"
   ]
  },
  {
   "cell_type": "markdown",
   "metadata": {
    "slideshow": {
     "slide_type": "slide"
    }
   },
   "source": [
    "<h1>Assignment 1</h1>"
   ]
  },
  {
   "cell_type": "markdown",
   "metadata": {
    "slideshow": {
     "slide_type": "fragment"
    }
   },
   "source": [
    "<h2>Setup you Git enviroment for the lab work. Instructions are found <a href=\"https://github.com/yahyatawil/HKU-21-22-Data-Structures-Algorithm/wiki/Assignment-1-(introduction)\">here</a>. <b>Deadline: Mid-night of Thu 30 Sep 2021</b></h2>"
   ]
  }
 ],
 "metadata": {
  "celltoolbar": "Slideshow",
  "kernelspec": {
   "display_name": "Python 3",
   "language": "python",
   "name": "python3"
  },
  "language_info": {
   "codemirror_mode": {
    "name": "ipython",
    "version": 3
   },
   "file_extension": ".py",
   "mimetype": "text/x-python",
   "name": "python",
   "nbconvert_exporter": "python",
   "pygments_lexer": "ipython3",
   "version": "3.6.6"
  }
 },
 "nbformat": 4,
 "nbformat_minor": 2
}
